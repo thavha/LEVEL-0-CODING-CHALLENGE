{
 "cells": [
  {
   "cell_type": "code",
   "execution_count": 1,
   "metadata": {},
   "outputs": [
    {
     "name": "stdout",
     "output_type": "stream",
     "text": [
      "0\n",
      "1\n",
      "3\n",
      "4\n"
     ]
    }
   ],
   "source": [
    "x = 0\n",
    "y = 1\n",
    "print(x)\n",
    "print(y)\n",
    "x = x + 3\n",
    "y = y + x\n",
    "print(x)\n",
    "print(y)"
   ]
  },
  {
   "cell_type": "code",
   "execution_count": 2,
   "metadata": {},
   "outputs": [
    {
     "name": "stdout",
     "output_type": "stream",
     "text": [
      "3\n",
      "4\n",
      "3\n",
      "2.0\n",
      "1.5\n"
     ]
    }
   ],
   "source": [
    "x = 1 + 1 * 2\n",
    "y = (1 + 1) * 2\n",
    "z = 1 + ( 1 * 2 )\n",
    "a = 1 + 1 * 2 / 2\n",
    "b = (1 + 1 * 2 ) /  2\n",
    "\n",
    "print(x)\n",
    "print(y)\n",
    "print(z)\n",
    "print(a)\n",
    "print(b)"
   ]
  },
  {
   "cell_type": "code",
   "execution_count": 7,
   "metadata": {},
   "outputs": [],
   "source": [
    "\n",
    "def hello(name):\n",
    "    return(\"Hello \" + name +\"!\")"
   ]
  },
  {
   "cell_type": "code",
   "execution_count": 8,
   "metadata": {},
   "outputs": [
    {
     "data": {
      "text/plain": [
       "'Hello thavha!'"
      ]
     },
     "execution_count": 8,
     "metadata": {},
     "output_type": "execute_result"
    }
   ],
   "source": [
    "hello(\"thavha\")"
   ]
  },
  {
   "cell_type": "code",
   "execution_count": 9,
   "metadata": {},
   "outputs": [],
   "source": [
    "def even_or_odd(number):\n",
    "    if number%2 ==0.0:\n",
    "        print(\"Even\")\n",
    "    else:\n",
    "        print(\"Odd\")"
   ]
  },
  {
   "cell_type": "code",
   "execution_count": 10,
   "metadata": {},
   "outputs": [
    {
     "name": "stdout",
     "output_type": "stream",
     "text": [
      "Odd\n"
     ]
    }
   ],
   "source": [
    "even_or_odd(3)"
   ]
  },
  {
   "cell_type": "code",
   "execution_count": 11,
   "metadata": {},
   "outputs": [],
   "source": [
    "\n",
    "def area_of_a_triangle(height, base):\n",
    "    return 0.5 * base * height"
   ]
  },
  {
   "cell_type": "code",
   "execution_count": 12,
   "metadata": {},
   "outputs": [
    {
     "data": {
      "text/plain": [
       "17.5"
      ]
     },
     "execution_count": 12,
     "metadata": {},
     "output_type": "execute_result"
    }
   ],
   "source": [
    "area_of_a_triangle(5,7)"
   ]
  },
  {
   "cell_type": "code",
   "execution_count": 13,
   "metadata": {},
   "outputs": [],
   "source": [
    "def maximum_number(x,y,z):\n",
    "    if x>y and x>z:\n",
    "        return x\n",
    "    elif y>x and y>z:\n",
    "        return y\n",
    "    else:\n",
    "        return z"
   ]
  },
  {
   "cell_type": "code",
   "execution_count": 14,
   "metadata": {},
   "outputs": [
    {
     "data": {
      "text/plain": [
       "87"
      ]
     },
     "execution_count": 14,
     "metadata": {},
     "output_type": "execute_result"
    }
   ],
   "source": [
    "maximum_number(8,87,0)"
   ]
  },
  {
   "cell_type": "code",
   "execution_count": 15,
   "metadata": {},
   "outputs": [],
   "source": [
    "def celsius_to_fahrenheit(temperature_celcius):\n",
    "    return temperature_celcius*(9/5)+32"
   ]
  },
  {
   "cell_type": "code",
   "execution_count": 16,
   "metadata": {},
   "outputs": [
    {
     "data": {
      "text/plain": [
       "116.60000000000001"
      ]
     },
     "execution_count": 16,
     "metadata": {},
     "output_type": "execute_result"
    }
   ],
   "source": [
    "celsius_to_fahrenheit(47)"
   ]
  },
  {
   "cell_type": "code",
   "execution_count": 17,
   "metadata": {},
   "outputs": [],
   "source": [
    "def fahrenheit_to_celsius(temperature_fahrenheit):\n",
    "    return ((5/9)*(temperature_fahrenheit-32))"
   ]
  },
  {
   "cell_type": "code",
   "execution_count": 19,
   "metadata": {},
   "outputs": [
    {
     "data": {
      "text/plain": [
       "19.444444444444446"
      ]
     },
     "execution_count": 19,
     "metadata": {},
     "output_type": "execute_result"
    }
   ],
   "source": [
    "fahrenheit_to_celsius(67)"
   ]
  },
  {
   "cell_type": "code",
   "execution_count": 20,
   "metadata": {},
   "outputs": [],
   "source": [
    "def number_into_hours_and_minutes(number):\n",
    "    a= 'hours'\n",
    "    b= 'hour'\n",
    "    c= 'minute'\n",
    "    d= 'minutes'\n",
    "    hours = number//60\n",
    "    minutes= number%60\n",
    "    if hours > 1 and minutes >1:\n",
    "        return (str(hours)+\" \"+a+\" \" +str(minutes)+\" \"+ d)\n",
    "    elif hours > 1 and minutes ==1:\n",
    "        return (str(hours)+\" \"+a+\" \" +str(minutes)+\" \"+ c)\n",
    "    elif hours == 1 and minutes >1:\n",
    "        return (str(hours)+\" \"+b+\" \" +str(minutes)+\" \"+ d)\n",
    "    elif hours ==0 and minutes ==0:\n",
    "        return 0\n",
    "    elif hours ==0 and minutes > 1:\n",
    "        return (str(minutes)+\" \"+ d)\n",
    "    elif hours ==0 and minutes ==1:\n",
    "        return(str(minutes)+\" \"+ c)\n",
    "    elif hours >1 and minutes ==0:\n",
    "        return (str(hours)+\" \"+a)\n",
    "    elif hours ==1 and minutes ==0:\n",
    "        return (str(hours)+\" \"+b)\n",
    "    elif hours ==1 and minutes >1:\n",
    "        return (str(hours)+\" \"+a+\" \" +str(minutes)+\" \"+ d)\n",
    "    elif hours ==1 and minutes ==1:\n",
    "        return (str(hours)+\" \"+b+\" \" +str(minutes)+\" \"+ c)"
   ]
  },
  {
   "cell_type": "code",
   "execution_count": 21,
   "metadata": {},
   "outputs": [
    {
     "data": {
      "text/plain": [
       "'2 hours 13 minutes'"
      ]
     },
     "execution_count": 21,
     "metadata": {},
     "output_type": "execute_result"
    }
   ],
   "source": [
    "number_into_hours_and_minutes(133)"
   ]
  },
  {
   "cell_type": "code",
   "execution_count": 22,
   "metadata": {},
   "outputs": [],
   "source": [
    "def vowels_in_the_string(string):\n",
    "    vowels =[\"a\",\"e\",\"i\",\"o\",\"u\",\"A\",\"E\",\"I\",\"O\",\"U\"]\n",
    "    for i in vowels:\n",
    "        if i in string:\n",
    "            print(i)\n"
   ]
  },
  {
   "cell_type": "code",
   "execution_count": 24,
   "metadata": {},
   "outputs": [
    {
     "name": "stdout",
     "output_type": "stream",
     "text": [
      "i\n",
      "u\n"
     ]
    }
   ],
   "source": [
    "vowels_in_the_string(\"duthuni1\")"
   ]
  },
  {
   "cell_type": "code",
   "execution_count": null,
   "metadata": {},
   "outputs": [],
   "source": []
  }
 ],
 "metadata": {
  "kernelspec": {
   "display_name": "Python 3",
   "language": "python",
   "name": "python3"
  },
  "language_info": {
   "codemirror_mode": {
    "name": "ipython",
    "version": 3
   },
   "file_extension": ".py",
   "mimetype": "text/x-python",
   "name": "python",
   "nbconvert_exporter": "python",
   "pygments_lexer": "ipython3",
   "version": "3.7.6"
  }
 },
 "nbformat": 4,
 "nbformat_minor": 4
}
